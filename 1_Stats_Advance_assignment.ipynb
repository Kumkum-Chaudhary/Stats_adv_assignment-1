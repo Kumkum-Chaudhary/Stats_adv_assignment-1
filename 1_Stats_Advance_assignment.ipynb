{
  "nbformat": 4,
  "nbformat_minor": 0,
  "metadata": {
    "colab": {
      "provenance": []
    },
    "kernelspec": {
      "name": "python3",
      "display_name": "Python 3"
    },
    "language_info": {
      "name": "python"
    }
  },
  "cells": [
    {
      "cell_type": "code",
      "execution_count": 1,
      "metadata": {
        "id": "oov-BFOsOEb9"
      },
      "outputs": [],
      "source": [
        "# Ques:  1. Explain the properties of the F-distribution.\n",
        "\n",
        "# Non-negativity: The F-distribution is always positive, as it is a ratio of squared variances.\n",
        "# Skewness: It is right-skewed, with the skewness decreasing as the degrees of freedom increase.\n",
        "# Degrees of Freedom: The shape of the F-distribution depends on two sets of degrees of freedom: one for the numerator and one for the denominator.\n",
        "# Mean and Variance: The mean of an F-distribution is approximately 1 when the degrees of freedom are large. The variance decreases as degrees of freedom increase."
      ]
    },
    {
      "cell_type": "code",
      "source": [
        "# Ques: 2. In which types of statistical tests is the F-distribution used, and why is it appropriate for these tests?\n",
        "\n",
        "# The F-distribution is commonly used in Analysis of Variance (ANOVA) and F-tests for comparing variances.\n",
        "# Appropriateness: The F-distribution is appropriate because it provides a way to test the ratio of two variances.\n",
        "# ANOVA uses it to test whether group means differ, assuming that the variances between groups and within groups follow this distribution."
      ],
      "metadata": {
        "id": "Hfg22g-hOY7n"
      },
      "execution_count": 10,
      "outputs": []
    },
    {
      "cell_type": "code",
      "source": [
        "# Ques: 3. What are the key assumptions required for conducting an F-test to compare the variances of two populations?\n",
        "\n",
        "# Independence of Observations: The samples must be independent.\n",
        "# Normality: Both populations should be normally distributed.\n",
        "# Equality of Variance: This assumption is tested in the F-test itself, but it is required that the populations be similar in variance for ANOVA and related applications."
      ],
      "metadata": {
        "id": "GITRZ21oOdmT"
      },
      "execution_count": 11,
      "outputs": []
    },
    {
      "cell_type": "code",
      "source": [
        "# Ques:4. What is the purpose of ANOVA, and how does it differ from a t-test?\n",
        "\n",
        "# ANOVA (Analysis of Variance): It assesses whether there are significant differences among group means when comparing three or more groups.\n",
        "# Difference from t-test: A t-test compares the means of two groups, whereas ANOVA can handle comparisons across multiple groups without inflating the Type I error rate."
      ],
      "metadata": {
        "id": "MGNpC18uOjVo"
      },
      "execution_count": 12,
      "outputs": []
    },
    {
      "cell_type": "code",
      "source": [
        "# Ques: 5. Explain when and why you would use a one-way ANOVA instead of multiple t-tests when comparing more than two groups.\n",
        "\n",
        "# When to Use One-Way ANOVA: One-way ANOVA is used when comparing the means of three or more groups.\n",
        "# Why Not Multiple t-Tests: Multiple t-tests increase the chance of a Type I error. ANOVA controls for this by testing all groups simultaneously."
      ],
      "metadata": {
        "id": "azRplZmXOoVn"
      },
      "execution_count": 5,
      "outputs": []
    },
    {
      "cell_type": "code",
      "source": [
        "# Ques: 6. Explain how variance is partitioned in ANOVA into between-group variance and within-group variance.\n",
        "# How does this partitioning contribute to the calculation of the F-statistic?\n",
        "\n",
        "# Between-Group Variance: This variance reflects differences between the group means.\n",
        "# Within-Group Variance: This reflects variance within each group.\n",
        "# F-Statistic Calculation: The F-statistic is calculated by taking the ratio of the between-group variance to the within-group variance.\n",
        "#         A higher F-value suggests significant differences among groups."
      ],
      "metadata": {
        "id": "LKD__kkUOssk"
      },
      "execution_count": 13,
      "outputs": []
    },
    {
      "cell_type": "code",
      "source": [
        "# Ques:7. Compare the classical (frequentist) approach to ANOVA with the Bayesian approach.\n",
        "# What are the key differences in terms of how they handle uncertainty, parameter estimation, and hypothesis testing?\n",
        "\n",
        "# Frequentist Approach: Relies on fixed parameter estimates and evaluates the probability of data given a null hypothesis.\n",
        "# Bayesian Approach: Incorporates prior beliefs and updates these beliefs as data becomes available.\n",
        "#  It provides a probability distribution for parameters, offering a different approach to uncertainty and hypothesis testing."
      ],
      "metadata": {
        "id": "nVpr8XHrOyKR"
      },
      "execution_count": 14,
      "outputs": []
    },
    {
      "cell_type": "code",
      "source": [
        "# 8. Question: You have two sets of data representing the incomes of two different professions1\n",
        "# V Profession A: [48, 52, 55, 60, 62'\n",
        "# V Profession B: [45, 50, 55, 52, 47] Perform an F-test to determine if the variances of the two professions'\n",
        "# incomes are equal. What are your conclusions based on the F-test?\n",
        "\n",
        "import scipy.stats as stats\n",
        "import numpy as np\n",
        "\n",
        "# Data\n",
        "profession_A = [48, 52, 55, 60, 62]\n",
        "profession_B = [45, 50, 55, 52, 47]\n",
        "\n",
        "# Calculate variances\n",
        "var_A = np.var(profession_A, ddof=1)\n",
        "var_B = np.var(profession_B, ddof=1)\n",
        "\n",
        "# Calculate F-statistic and p-value\n",
        "F = var_A / var_B\n",
        "dfn = len(profession_A) - 1  # degrees of freedom numerator\n",
        "dfd = len(profession_B) - 1  # degrees of freedom denominator\n",
        "p_value = 1 - stats.f.cdf(F, dfn, dfd)\n",
        "\n",
        "F, p_value\n",
        "\n",
        "# Interpretation: The F-statistic and p-value will help determine if there's a significant difference in variances.\n",
        "# A low p-value (e.g., < 0.05) would suggest rejecting the null hypothesis of equal variances."
      ],
      "metadata": {
        "colab": {
          "base_uri": "https://localhost:8080/"
        },
        "id": "ybB5hcXQO4JE",
        "outputId": "0d3b1abc-4224-45f1-bbf0-14e36dc5af40"
      },
      "execution_count": 15,
      "outputs": [
        {
          "output_type": "execute_result",
          "data": {
            "text/plain": [
              "(2.089171974522293, 0.24652429950266952)"
            ]
          },
          "metadata": {},
          "execution_count": 15
        }
      ]
    },
    {
      "cell_type": "code",
      "source": [
        "# 9. Question: Conduct a one-way ANOVA to test whether there are any statistically significant differences in\n",
        "# average heights between three different regions with the following data1\n",
        "# V Region A: [160, 162, 165, 158, 164'\n",
        "# V Region B: [172, 175, 170, 168, 174'\n",
        "# V Region C: [180, 182, 179, 185, 183'\n",
        "# V Task: Write Python code to perform the one-way ANOVA and interpret the results\n",
        "# V Objective: Learn how to perform one-way ANOVA using Python and interpret F-statistic and p-value.\n",
        "\n",
        "import scipy.stats as stats\n",
        "\n",
        "# Data for each region\n",
        "region_A = [160, 162, 165, 158, 164]\n",
        "region_B = [172, 175, 170, 168, 174]\n",
        "region_C = [180, 182, 179, 185, 183]\n",
        "\n",
        "# Perform one-way ANOVA\n",
        "F_statistic, p_value = stats.f_oneway(region_A, region_B, region_C)\n",
        "\n",
        "F_statistic, p_value\n",
        "\n",
        "# Interpretation: The F-statistic and p-value from ANOVA will reveal if there are significant height differences between regions.\n",
        "# If the p-value is low (e.g., < 0.05), it indicates statistically significant differences among the regions’ average heights."
      ],
      "metadata": {
        "colab": {
          "base_uri": "https://localhost:8080/"
        },
        "id": "07qsWdNRPF29",
        "outputId": "fbf94f84-010f-4fa9-9da2-c66223642d1c"
      },
      "execution_count": 16,
      "outputs": [
        {
          "output_type": "execute_result",
          "data": {
            "text/plain": [
              "(67.87330316742101, 2.870664187937026e-07)"
            ]
          },
          "metadata": {},
          "execution_count": 16
        }
      ]
    },
    {
      "cell_type": "code",
      "source": [],
      "metadata": {
        "id": "SfzurvwnPMcy"
      },
      "execution_count": null,
      "outputs": []
    }
  ]
}